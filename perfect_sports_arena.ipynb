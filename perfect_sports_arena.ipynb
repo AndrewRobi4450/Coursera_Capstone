{
 "cells": [
  {
   "cell_type": "markdown",
   "metadata": {},
   "source": [
    "# Perfect Sports Arena: San Antonio, TX"
   ]
  },
  {
   "cell_type": "markdown",
   "metadata": {},
   "source": [
    "## OVERVIEW/BACKGROUND"
   ]
  },
  {
   "cell_type": "markdown",
   "metadata": {},
   "source": [
    "In the Nation Basketball Association (NBA), the arenas that each team plays in typically are located in the downtown of the city. As a fan of the NBA and more specifically the San Antonio Spurs, I enjoy going to games in person since I live in the same city. The AT&T Center is the name of the arena that the San Antonio Spurs play in. However, unlike other arenas for other teams in the league, the AT&T center is not even located in downtown San Antonio. It is located approximately 5 miles from downtown. The question then becomes: Would it make more sense to have a sports arena that is located downtown as opposed to its current location. "
   ]
  },
  {
   "cell_type": "markdown",
   "metadata": {},
   "source": [
    "## HOW DATA CAN BE USED"
   ]
  },
  {
   "cell_type": "markdown",
   "metadata": {},
   "source": [
    "For this report I will use San Antonio location data to visualize the neighborhood and venue densities of both the area surrounding the AT&T Center and downtown San Antonio. If downtown is more densely populated with neighborhoods and venues, then that could lead to an economic incentive to have an arena in that area."
   ]
  }
 ],
 "metadata": {
  "kernelspec": {
   "display_name": "Python 3",
   "language": "python",
   "name": "python3"
  },
  "language_info": {
   "codemirror_mode": {
    "name": "ipython",
    "version": 3
   },
   "file_extension": ".py",
   "mimetype": "text/x-python",
   "name": "python",
   "nbconvert_exporter": "python",
   "pygments_lexer": "ipython3",
   "version": "3.7.6"
  }
 },
 "nbformat": 4,
 "nbformat_minor": 4
}
